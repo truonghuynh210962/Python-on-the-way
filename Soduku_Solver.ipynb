{
  "nbformat": 4,
  "nbformat_minor": 0,
  "metadata": {
    "colab": {
      "name": "Soduku Solver.ipynb",
      "provenance": [],
      "collapsed_sections": [],
      "authorship_tag": "ABX9TyOxJNiV5rcJ9a1dq1Shgdav",
      "include_colab_link": true
    },
    "kernelspec": {
      "name": "python3",
      "display_name": "Python 3"
    }
  },
  "cells": [
    {
      "cell_type": "markdown",
      "metadata": {
        "id": "view-in-github",
        "colab_type": "text"
      },
      "source": [
        "<a href=\"https://colab.research.google.com/github/truonghuynh210962/Python-on-the-way/blob/main/Soduku_Solver.ipynb\" target=\"_parent\"><img src=\"https://colab.research.google.com/assets/colab-badge.svg\" alt=\"Open In Colab\"/></a>"
      ]
    },
    {
      "cell_type": "code",
      "metadata": {
        "id": "UcxX6x-mjLdj"
      },
      "source": [
        "import numpy as np\n",
        "import itertools"
      ],
      "execution_count": 1,
      "outputs": []
    },
    {
      "cell_type": "code",
      "metadata": {
        "id": "k0XKft4jjd7Q"
      },
      "source": [
        "set_of_nums = np.array([1,2,3,4,5,6,7,8,9])\n",
        "sum_of_set = sum(set_of_nums)"
      ],
      "execution_count": 2,
      "outputs": []
    },
    {
      "cell_type": "code",
      "metadata": {
        "id": "-2ZL4fW5ngs8"
      },
      "source": [
        "def fill_rows():\n",
        "  table = [[6,0,0,1,5,7,0,0,0],\n",
        "           [3,0,0,2,0,4,0,9,0],\n",
        "           [0,1,0,0,0,6,0,4,0],\n",
        "           [2,6,0,0,1,0,8,0,3],\n",
        "           [5,0,0,0,0,0,9,2,4],\n",
        "           [0,0,3,9,0,0,0,0,5],\n",
        "           [1,3,0,6,0,2,0,0,0],\n",
        "           [9,4,6,8,3,1,7,0,0],\n",
        "           [7,0,0,0,4,9,0,1,0]]\n",
        "  rows = []\n",
        "  rows_fill = []\n",
        "  for i in set_of_nums:\n",
        "    rows.append(table[i-1])\n",
        "    mask = (np.isin(set_of_nums,table[i-1],invert=True))\n",
        "    rows_fill.append(set_of_nums[mask])\n",
        "  return rows,rows_fill\n",
        "rows = fill_rows()[0]\n",
        "row_fills = fill_rows()[1]"
      ],
      "execution_count": 3,
      "outputs": []
    },
    {
      "cell_type": "code",
      "metadata": {
        "id": "yfQvAiNi1YfH"
      },
      "source": [
        "dict_rows = {}\n",
        "for i in set_of_nums:\n",
        "  dict_rows[i] = []\n",
        "for key,value in dict_rows.items():\n",
        "  permutations = list(itertools.permutations(row_fills[key-1]))\n",
        "  for i_per in permutations:\n",
        "    #print (i_per)\n",
        "    row = fill_rows()[0][key-1]\n",
        "    #print (row)\n",
        "    i_per_arr = np.array(i_per)\n",
        "    for j_per in i_per_arr:\n",
        "      for i,j in enumerate(row):\n",
        "        if j == 0:\n",
        "          row[i] = j_per\n",
        "          break\n",
        "      i_per_arr = i_per_arr[np.isin(i_per_arr,j_per,invert=True)]\n",
        "    dict_rows[key].append(list(row))"
      ],
      "execution_count": 4,
      "outputs": []
    },
    {
      "cell_type": "code",
      "metadata": {
        "id": "S66hCCW4oeK8"
      },
      "source": [
        "combin = []\n",
        "for value in dict_rows.values():\n",
        "  combin.append(list(value))"
      ],
      "execution_count": 5,
      "outputs": []
    },
    {
      "cell_type": "code",
      "metadata": {
        "id": "2FxlXxtG0loq"
      },
      "source": [
        "row13 = list(itertools.product(combin[0],combin[1],combin[2]))"
      ],
      "execution_count": 6,
      "outputs": []
    },
    {
      "cell_type": "code",
      "metadata": {
        "id": "U3fSEhh-2JLs"
      },
      "source": [
        "sumblock = 0\n",
        "sumblock_list = []\n",
        "blocks = []\n",
        "block_set_list = []\n",
        "result13 = []\n",
        "for i in row13: #change row to 1-3\n",
        "  for j in [0,3,6]:\n",
        "    for lines in i:\n",
        "      #print (lines[j:j+3])\n",
        "      sumblock += sum(lines[j:j+3])\n",
        "      blocks+=lines[j:j+3]\n",
        "    #print (blocks)\n",
        "    # if sumblock != 45 or len(set(blocks)) !=9:\n",
        "    #   break\n",
        "    sumblock_list.append(sumblock)\n",
        "    block_set_list.append(len(set(blocks)))\n",
        "    sumblock = 0\n",
        "    blocks = []\n",
        "  #print (sumblock_list,block_set_list)\n",
        "  if sumblock_list == [45,45,45] and block_set_list == [9,9,9]:\n",
        "    #print (i)\n",
        "    result13.append(i)\n",
        "  sumblock_list = []\n",
        "  block_set_list = []\n",
        "del row13 #del varibale"
      ],
      "execution_count": 7,
      "outputs": []
    },
    {
      "cell_type": "code",
      "metadata": {
        "id": "E-croSmz6Z3j"
      },
      "source": [
        "row46 = list(itertools.product(combin[3],combin[4],combin[5]))"
      ],
      "execution_count": 8,
      "outputs": []
    },
    {
      "cell_type": "code",
      "metadata": {
        "id": "r196OOBJJQr2"
      },
      "source": [
        "sumblock = 0\n",
        "sumblock_list = []\n",
        "blocks = []\n",
        "block_set_list = []\n",
        "result46 = [] #set result46 list\n",
        "for i in row46: #change row to 4-6\n",
        "  for j in [0,3,6]:\n",
        "    for lines in i:\n",
        "      #print (lines[j:j+3])\n",
        "      sumblock += sum(lines[j:j+3])\n",
        "      blocks+=lines[j:j+3]\n",
        "    # if sumblock != 45 or len(set(blocks)) !=9:\n",
        "    #   break\n",
        "    sumblock_list.append(sumblock)\n",
        "    block_set_list.append(len(set(blocks)))\n",
        "    sumblock = 0\n",
        "    blocks = []\n",
        "  #print (sumblock_list,block_set_list)\n",
        "  if sumblock_list == [45,45,45] and block_set_list == [9,9,9]:\n",
        "    result46.append(i)\n",
        "  sumblock_list = []\n",
        "  block_set_list = []\n",
        "del row46 #del varibale"
      ],
      "execution_count": 9,
      "outputs": []
    },
    {
      "cell_type": "code",
      "metadata": {
        "id": "MrM7C93w6elq"
      },
      "source": [
        "row79 = list(itertools.product(combin[6],combin[7],combin[8]))"
      ],
      "execution_count": 10,
      "outputs": []
    },
    {
      "cell_type": "code",
      "metadata": {
        "id": "J9yI4x1ZJmSm"
      },
      "source": [
        "sumblock = 0\n",
        "sumblock_list = []\n",
        "blocks = []\n",
        "block_set_list = []\n",
        "result79 = []\n",
        "\n",
        "for i in row79: #change row to 7-9\n",
        "  for j in [0,3,6]:\n",
        "    for lines in i:\n",
        "      #print (lines[j:j+3])\n",
        "      sumblock += sum(lines[j:j+3])\n",
        "      blocks+=lines[j:j+3]\n",
        "    sumblock_list.append(sumblock)\n",
        "    block_set_list.append(len(set(blocks)))\n",
        "    sumblock = 0\n",
        "    blocks = []\n",
        "  #print (sumblock_list,block_set_list)\n",
        "  if sumblock_list == [45,45,45] and block_set_list == [9,9,9]:\n",
        "    result79.append(i)\n",
        "  sumblock_list = []\n",
        "  block_set_list = []\n",
        "del row79 #del varibale"
      ],
      "execution_count": 11,
      "outputs": []
    },
    {
      "cell_type": "code",
      "metadata": {
        "id": "-OBAHJVi_XnF",
        "outputId": "6b317dd3-3b8a-4cce-8c61-f1ab5fc76034",
        "colab": {
          "base_uri": "https://localhost:8080/"
        }
      },
      "source": [
        "result1_9 = list(itertools.product(result13,result46,result79))\n",
        "print(len(result1_9))\n",
        "for i in result1_9:\n",
        "  if np.all(np.sum(np.array(i).reshape(9,9).T,axis=0) == 45) and np.all(np.array([len(set(j)) for j in np.array(i).reshape(9,9).T]) == 9):\n",
        "    print (np.array(i).reshape(9,9))\n",
        "    break\n",
        "    del result1_9\n"
      ],
      "execution_count": 12,
      "outputs": [
        {
          "output_type": "stream",
          "text": [
            "7077888\n",
            "[[6 9 4 1 5 7 2 3 8]\n",
            " [3 5 7 2 8 4 6 9 1]\n",
            " [8 1 2 3 9 6 5 4 7]\n",
            " [2 6 9 4 1 5 8 7 3]\n",
            " [5 8 1 7 6 3 9 2 4]\n",
            " [4 7 3 9 2 8 1 6 5]\n",
            " [1 3 5 6 7 2 4 8 9]\n",
            " [9 4 6 8 3 1 7 5 2]\n",
            " [7 2 8 5 4 9 3 1 6]]\n"
          ],
          "name": "stdout"
        }
      ]
    }
  ]
}